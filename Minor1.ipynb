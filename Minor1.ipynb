{
 "cells": [
  {
   "cell_type": "code",
   "execution_count": 1,
   "id": "9367a415",
   "metadata": {},
   "outputs": [
    {
     "name": "stdout",
     "output_type": "stream",
     "text": [
      "      0    1         2         3    4    5         6    7         8    9   \\\n",
      "470  1.0  0.0  0.333333  1.000000  1.0  1.0  0.000000  0.0  0.333333  1.0   \n",
      "76   0.0  0.0  0.333333  1.000000  0.0  1.0  1.000000  1.0  0.666667  1.0   \n",
      "596  0.0  1.0  0.333333  1.000000  0.0  1.0  0.666667  0.0  0.666667  1.0   \n",
      "564  0.0  1.0  0.333333  1.000000  1.0  0.0  0.666667  0.0  0.333333  1.0   \n",
      "407  0.0  1.0  0.333333  0.666667  0.0  0.0  1.000000  0.0  0.666667  1.0   \n",
      "..   ...  ...       ...       ...  ...  ...       ...  ...       ...  ...   \n",
      "534  0.0  0.0  0.333333  1.000000  1.0  1.0  0.666667  1.0  1.000000  1.0   \n",
      "584  0.0  1.0  1.000000  1.000000  0.0  1.0  0.666667  0.0  0.333333  1.0   \n",
      "493  0.0  1.0  0.333333  1.000000  0.0  1.0  0.666667  0.0  0.333333  1.0   \n",
      "527  0.0  1.0  0.333333  1.000000  0.0  1.0  0.000000  0.0  0.333333  1.0   \n",
      "168  0.0  1.0  0.333333  0.666667  1.0  0.0  0.666667  1.0  0.333333  0.0   \n",
      "\n",
      "     ...   14   15        16   17   18   19   20   21   22   23  \n",
      "470  ...  0.0  1.0  0.000000  1.0  0.0  0.0  0.5  0.0  1.0  1.0  \n",
      "76   ...  0.0  1.0  0.000000  1.0  0.5  1.0  0.5  0.0  1.0  0.0  \n",
      "596  ...  0.0  1.0  1.000000  1.0  0.5  0.0  0.5  0.0  0.0  1.0  \n",
      "564  ...  0.0  1.0  0.000000  0.0  0.0  0.0  1.0  0.0  1.0  1.0  \n",
      "407  ...  1.0  1.0  0.000000  1.0  0.0  0.0  0.5  0.0  0.0  0.0  \n",
      "..   ...  ...  ...       ...  ...  ...  ...  ...  ...  ...  ...  \n",
      "534  ...  1.0  1.0  0.000000  1.0  0.5  1.0  0.5  1.0  1.0  0.0  \n",
      "584  ...  1.0  1.0  0.000000  1.0  0.0  1.0  0.5  0.0  1.0  0.0  \n",
      "493  ...  0.0  1.0  0.666667  1.0  0.0  1.0  0.5  0.0  1.0  0.0  \n",
      "527  ...  1.0  1.0  0.000000  0.0  0.0  1.0  0.5  0.0  1.0  0.0  \n",
      "168  ...  0.0  1.0  0.000000  1.0  0.0  1.0  0.5  1.0  1.0  1.0  \n",
      "\n",
      "[417 rows x 24 columns]\n",
      "           0    1         2         3    4    5         6    7         8   \\\n",
      "448  0.333333  1.0  0.666667  0.666667  0.0  1.0  0.666667  0.0  0.333333   \n",
      "141  0.000000  0.0  0.333333  0.333333  1.0  0.0  0.666667  0.0  0.333333   \n",
      "131  0.000000  0.0  0.333333  0.000000  1.0  0.0  0.666667  0.0  0.333333   \n",
      "363  0.000000  1.0  0.333333  0.333333  0.0  1.0  0.666667  0.0  0.333333   \n",
      "176  0.000000  1.0  1.000000  1.000000  0.0  1.0  0.666667  1.0  0.000000   \n",
      "..        ...  ...       ...       ...  ...  ...       ...  ...       ...   \n",
      "547  0.000000  1.0  0.333333  1.000000  0.0  1.0  0.000000  0.0  0.333333   \n",
      "15   0.000000  1.0  1.000000  1.000000  1.0  1.0  0.666667  0.0  1.000000   \n",
      "464  0.333333  1.0  0.666667  0.666667  1.0  1.0  0.666667  0.0  0.666667   \n",
      "307  0.000000  1.0  0.333333  1.000000  1.0  1.0  0.666667  0.0  0.333333   \n",
      "321  0.000000  1.0  0.666667  1.000000  0.0  1.0  0.666667  0.0  1.000000   \n",
      "\n",
      "      9   ...   14   15        16   17   18   19   20   21   22   23  \n",
      "448  1.0  ...  1.0  1.0  0.000000  1.0  0.0  1.0  0.5  0.0  0.0  0.0  \n",
      "141  1.0  ...  1.0  1.0  0.000000  1.0  0.0  0.0  0.5  0.0  0.0  0.0  \n",
      "131  1.0  ...  1.0  1.0  0.666667  1.0  0.0  0.0  0.5  0.0  1.0  1.0  \n",
      "363  0.0  ...  0.0  1.0  0.000000  1.0  1.0  0.0  0.5  0.0  1.0  0.0  \n",
      "176  1.0  ...  1.0  1.0  0.000000  1.0  0.0  1.0  0.5  0.0  0.0  0.0  \n",
      "..   ...  ...  ...  ...       ...  ...  ...  ...  ...  ...  ...  ...  \n",
      "547  1.0  ...  0.0  1.0  0.000000  0.0  0.0  0.0  0.0  0.0  1.0  0.0  \n",
      "15   1.0  ...  0.0  1.0  0.000000  1.0  0.5  1.0  0.5  0.0  0.0  0.0  \n",
      "464  1.0  ...  1.0  1.0  0.000000  1.0  0.0  1.0  0.5  0.0  1.0  1.0  \n",
      "307  1.0  ...  0.0  1.0  0.666667  1.0  0.0  0.0  0.5  0.0  1.0  0.0  \n",
      "321  0.0  ...  0.0  0.0  0.000000  1.0  0.5  0.0  0.5  0.0  1.0  0.0  \n",
      "\n",
      "[180 rows x 24 columns]\n"
     ]
    }
   ],
   "source": [
    "import numpy as np\n",
    "import matplotlib.pyplot as plt\n",
    "import pandas as pd\n",
    "from sklearn.metrics import precision_score,recall_score,f1_score,classification_report\n",
    "df=pd.read_csv(\"solar_panel.csv\")\n",
    "#RENAME\n",
    "list_drop = ['Timestamp']\n",
    "df.drop(list_drop, axis=1, inplace=True)\n",
    "df_cols=['age','gender','education','income','area','basic_idea','awareness','using','influence','opinion','apartment','space','adv/disadv','alt_power','gov_scheme','ready_to_use','factor','plan_to_use','afford','compromise','change_in_weather','service_centre','inverter','contribution_towards_clean_energy','target']\n",
    "df.columns = df_cols\n",
    "#LABELENCODING\n",
    "from sklearn.preprocessing import LabelEncoder\n",
    "labelencoder=LabelEncoder()\n",
    "for i in df_cols:\n",
    "    df[i]=labelencoder.fit_transform(df[i])\n",
    "df.isnull().sum()\n",
    "Y=df.loc[:,'target']\n",
    "X=df.loc[:,df.columns!='target']\n",
    "df.dtypes\n",
    "#MIM-MAX NORMALIZATION\n",
    "from sklearn.preprocessing import MinMaxScaler\n",
    "norm=MinMaxScaler()\n",
    "X=norm.fit_transform(X)\n",
    "X=pd.DataFrame(X)\n",
    "X.describe()\n",
    "#SPLITTING THE DATA\n",
    "from sklearn.model_selection import train_test_split\n",
    "X_train,X_test,Y_train,Y_test=train_test_split(X,Y,test_size=0.3,random_state=2)\n",
    "print(X_train)\n",
    "print(X_test)"
   ]
  },
  {
   "cell_type": "code",
   "execution_count": 2,
   "id": "db07a285",
   "metadata": {},
   "outputs": [
    {
     "name": "stdout",
     "output_type": "stream",
     "text": [
      "[[  1  12]\n",
      " [  1 166]]\n",
      "----------------test data-------------\n",
      "PRECISION: 0.9325842696629213\n",
      "F1 SCORE: 0.9623188405797101\n",
      "RECALL SCORE: 0.9940119760479041\n",
      "-----------------train data------------\n",
      "PRECISION: 0.9315403422982885\n",
      "F1 SCORE: 0.9633375474083439\n",
      "RECALL SCORE: 0.9973821989528796\n",
      "accuracy train 0.9304556354916067\n",
      "accuracy test 0.9277777777777778\n"
     ]
    }
   ],
   "source": [
    "from sklearn.neighbors import KNeighborsClassifier\n",
    "classifier=KNeighborsClassifier(n_neighbors=5)\n",
    "classifier.fit(X_train,Y_train)\n",
    "Y_pred=classifier.predict(X_test)\n",
    "Y_pred1=classifier.predict(X_train)\n",
    "from sklearn.metrics import classification_report,confusion_matrix\n",
    "#print(\"Train Data:\",classification_report(Y_train,Y_pred1),sep=\"\\n\")\n",
    "#print(\"Test Data:\",classification_report(Y_test,Y_pred),sep=\"\\n\")\n",
    "print(confusion_matrix(Y_test,Y_pred))\n",
    "print(\"----------------test data-------------\")\n",
    "print(\"PRECISION:\",precision_score(Y_test,Y_pred,average=\"binary\"))\n",
    "print(\"F1 SCORE:\",f1_score(Y_test,Y_pred,average=\"binary\"))\n",
    "print(\"RECALL SCORE:\",recall_score(Y_test,Y_pred,average=\"binary\"))\n",
    "print(\"-----------------train data------------\")\n",
    "print(\"PRECISION:\",precision_score(Y_train,Y_pred1,average=\"binary\"))\n",
    "print(\"F1 SCORE:\",f1_score(Y_train,Y_pred1,average=\"binary\"))\n",
    "print(\"RECALL SCORE:\",recall_score(Y_train,Y_pred1,average=\"binary\"))\n",
    "print(\"accuracy train\",classifier.score(X_train, Y_train))\n",
    "print(\"accuracy test\",classifier.score(X_test, Y_test))"
   ]
  },
  {
   "cell_type": "code",
   "execution_count": 3,
   "id": "aa857913",
   "metadata": {},
   "outputs": [
    {
     "name": "stdout",
     "output_type": "stream",
     "text": [
      "[[  0  13]\n",
      " [  0 167]]\n",
      "----------------test data-------------\n",
      "PRECISION: 0.9277777777777778\n",
      "F1 SCORE: 0.962536023054755\n",
      "RECALL SCORE: 1.0\n",
      "-----------------train data------------\n",
      "PRECISION: 0.9160671462829736\n",
      "F1 SCORE: 0.9561952440550687\n",
      "RECALL SCORE: 1.0\n",
      "accuracy tarin: 0.9160671462829736\n",
      "accuracy test: 0.9277777777777778\n"
     ]
    }
   ],
   "source": [
    "from sklearn.svm import SVC # \"Support vector classifier\"  \n",
    "classifier = SVC(kernel='linear', random_state=3)  \n",
    "classifier.fit(X_train, Y_train)\n",
    "Y_pred1=classifier.predict(X_train)  \n",
    "Y_pred= classifier.predict(X_test)  \n",
    "from sklearn.metrics import confusion_matrix  \n",
    "cm= confusion_matrix(Y_test, Y_pred) \n",
    "print(cm)\n",
    "print(\"----------------test data-------------\")\n",
    "print(\"PRECISION:\",precision_score(Y_test,Y_pred,average=\"binary\"))\n",
    "print(\"F1 SCORE:\",f1_score(Y_test,Y_pred,average=\"binary\"))\n",
    "print(\"RECALL SCORE:\",recall_score(Y_test,Y_pred,average=\"binary\"))\n",
    "print(\"-----------------train data------------\")\n",
    "print(\"PRECISION:\",precision_score(Y_train,Y_pred1,average=\"binary\"))\n",
    "print(\"F1 SCORE:\",f1_score(Y_train,Y_pred1,average=\"binary\"))\n",
    "print(\"RECALL SCORE:\",recall_score(Y_train,Y_pred1,average=\"binary\"))\n",
    "#print(\"Train Data:\",classification_report(Y_train,Y_pred1))\n",
    "#print(\"Test Data:\",classification_report(Y_test,Y_pred))\n",
    "print(\"accuracy tarin:\",classifier.score(X_train, Y_train))\n",
    "print(\"accuracy test:\",classifier.score(X_test, Y_test))"
   ]
  },
  {
   "cell_type": "code",
   "execution_count": 4,
   "id": "f07f9183",
   "metadata": {},
   "outputs": [
    {
     "name": "stdout",
     "output_type": "stream",
     "text": [
      "----------------test data-------------\n",
      "PRECISION: 0.9277777777777778\n",
      "F1 SCORE: 0.962536023054755\n",
      "RECALL SCORE: 1.0\n",
      "-----------------train data------------\n",
      "PRECISION: 0.9182692307692307\n",
      "F1 SCORE: 0.9573934837092731\n",
      "RECALL SCORE: 1.0\n",
      "accuracy train 0.9184652278177458\n",
      "accuracy test 0.9277777777777778\n"
     ]
    }
   ],
   "source": [
    "from sklearn.linear_model import LogisticRegression\n",
    "classifier=LogisticRegression(random_state=0)\n",
    "classifier.fit(X_train,Y_train)\n",
    "Y_pred=classifier.predict(X_test)\n",
    "Y_pred\n",
    "Y_pred1=classifier.predict(X_train)  \n",
    "\n",
    "from sklearn.metrics import confusion_matrix,accuracy_score\n",
    "cm=confusion_matrix(Y_test,Y_pred)\n",
    "cm\n",
    "\n",
    "accuracy=accuracy_score(Y_test,Y_pred)\n",
    "accuracy\n",
    "print(\"----------------test data-------------\")\n",
    "print(\"PRECISION:\",precision_score(Y_test,Y_pred,average=\"binary\"))\n",
    "print(\"F1 SCORE:\",f1_score(Y_test,Y_pred,average=\"binary\"))\n",
    "print(\"RECALL SCORE:\",recall_score(Y_test,Y_pred,average=\"binary\"))\n",
    "print(\"-----------------train data------------\")\n",
    "print(\"PRECISION:\",precision_score(Y_train,Y_pred1,average=\"binary\"))\n",
    "print(\"F1 SCORE:\",f1_score(Y_train,Y_pred1,average=\"binary\"))\n",
    "print(\"RECALL SCORE:\",recall_score(Y_train,Y_pred1,average=\"binary\"))\n",
    "#print(\"Train Data:\",classification_report(Y_train,Y_pred1),sep=\"\\n\")\n",
    "#print(\"Test Data:\",classification_report(Y_test,Y_pred),sep=\"\\n\")\n",
    "print(\"accuracy train\",classifier.score(X_train, Y_train))\n",
    "print(\"accuracy test\",classifier.score(X_test, Y_test))"
   ]
  },
  {
   "cell_type": "code",
   "execution_count": 5,
   "id": "f8bb4a61",
   "metadata": {},
   "outputs": [
    {
     "name": "stdout",
     "output_type": "stream",
     "text": [
      "[[  2  11]\n",
      " [ 13 154]] is the confusion_matrix\n",
      "----------------test data-------------\n",
      "PRECISION: 0.9333333333333333\n",
      "F1 SCORE: 0.927710843373494\n",
      "RECALL SCORE: 0.9221556886227545\n",
      "-----------------train data------------\n",
      "PRECISION: 0.9389920424403183\n",
      "F1 SCORE: 0.9328063241106719\n",
      "RECALL SCORE: 0.9267015706806283\n",
      "accuracy train 0.9184652278177458\n",
      "accuracy test 0.9277777777777778\n"
     ]
    }
   ],
   "source": [
    "from sklearn.naive_bayes import GaussianNB\n",
    "model=GaussianNB()\n",
    "model.fit(X_train, Y_train) #training the model is doing here\n",
    "Y_pred = model.predict(X_test)\n",
    "Y_pred1=model.predict(X_train)  \n",
    "from sklearn.metrics import confusion_matrix\n",
    "cm=np.array(confusion_matrix(Y_test,Y_pred))\n",
    "print(cm,\"is the confusion_matrix\")\n",
    "#print(\"Train Data:\",classification_report(Y_train,Y_pred1),sep=\"\\n\")\n",
    "#print(\"Test Data:\",classification_report(Y_test,Y_pred),sep=\"\\n\")\n",
    "print(\"----------------test data-------------\")\n",
    "print(\"PRECISION:\",precision_score(Y_test,Y_pred,average=\"binary\"))\n",
    "print(\"F1 SCORE:\",f1_score(Y_test,Y_pred,average=\"binary\"))\n",
    "print(\"RECALL SCORE:\",recall_score(Y_test,Y_pred,average=\"binary\"))\n",
    "print(\"-----------------train data------------\")\n",
    "print(\"PRECISION:\",precision_score(Y_train,Y_pred1,average=\"binary\"))\n",
    "print(\"F1 SCORE:\",f1_score(Y_train,Y_pred1,average=\"binary\"))\n",
    "print(\"RECALL SCORE:\",recall_score(Y_train,Y_pred1,average=\"binary\"))\n",
    "print(\"accuracy train\",classifier.score(X_train, Y_train))\n",
    "print(\"accuracy test\",classifier.score(X_test, Y_test))"
   ]
  },
  {
   "cell_type": "code",
   "execution_count": 6,
   "id": "61f227de",
   "metadata": {},
   "outputs": [
    {
     "name": "stdout",
     "output_type": "stream",
     "text": [
      "[[  0  13]\n",
      " [  0 167]]\n",
      "----------------test data-------------\n",
      "PRECISION: 0.9277777777777778\n",
      "F1 SCORE: 0.962536023054755\n",
      "RECALL SCORE: 1.0\n",
      "-----------------train data------------\n",
      "PRECISION: 0.9160671462829736\n",
      "F1 SCORE: 0.9561952440550687\n",
      "RECALL SCORE: 1.0\n",
      "accuracy train 0.9160671462829736\n",
      "accuracy test 0.9277777777777778\n"
     ]
    }
   ],
   "source": [
    "1# Fitting Decision Tree classifier to the training set\n",
    "from sklearn.tree import DecisionTreeClassifier\n",
    "classifier= DecisionTreeClassifier(max_depth=1)\n",
    "classifier.fit(X_train, Y_train)\n",
    "\n",
    "Y_pred=classifier.score(X_train, Y_train) \n",
    "Y_pred1=classifier.score(X_test, Y_test)\n",
    "\n",
    "#Predicting the test set result\n",
    "Y_pred=classifier.predict(X_test)\n",
    "Y_pred1=classifier.predict(X_train)\n",
    "\n",
    "\n",
    "from sklearn.metrics import accuracy_score\n",
    "#ac=accuracy_score(Y_test,a) \n",
    "#Creating the Confusion matrix\n",
    "from sklearn.metrics import confusion_matrix,accuracy_score \n",
    "cm=confusion_matrix(Y_test,Y_pred) \n",
    "print(cm) \n",
    "#print(ac)\n",
    "#print(\"Train Data:\",classification_report(Y_train,Y_pred1),sep=\"\\n\")\n",
    "#print(\"Test Data:\",classification_report(Y_test,Y_pred),sep=\"\\n\")\n",
    "print(\"----------------test data-------------\")\n",
    "print(\"PRECISION:\",precision_score(Y_test,Y_pred,average=\"binary\"))\n",
    "print(\"F1 SCORE:\",f1_score(Y_test,Y_pred,average=\"binary\"))\n",
    "print(\"RECALL SCORE:\",recall_score(Y_test,Y_pred,average=\"binary\"))\n",
    "print(\"-----------------train data------------\")\n",
    "print(\"PRECISION:\",precision_score(Y_train,Y_pred1,average=\"binary\"))\n",
    "print(\"F1 SCORE:\",f1_score(Y_train,Y_pred1,average=\"binary\"))\n",
    "print(\"RECALL SCORE:\",recall_score(Y_train,Y_pred1,average=\"binary\"))\n",
    "print(\"accuracy train\",classifier.score(X_train, Y_train))\n",
    "print(\"accuracy test\",classifier.score(X_test, Y_test))"
   ]
  },
  {
   "cell_type": "code",
   "execution_count": 7,
   "id": "c4020986",
   "metadata": {},
   "outputs": [
    {
     "name": "stdout",
     "output_type": "stream",
     "text": [
      "----------------test data-------------\n",
      "PRECISION: 0.936046511627907\n",
      "F1 SCORE: 0.9498525073746313\n",
      "RECALL SCORE: 0.9640718562874252\n",
      "-----------------train data------------\n",
      "PRECISION: 0.9160671462829736\n",
      "F1 SCORE: 0.9561952440550687\n",
      "RECALL SCORE: 1.0\n",
      "accuracy train 0.9160671462829736\n",
      "accuracy test 0.9277777777777778\n"
     ]
    }
   ],
   "source": [
    "from sklearn.ensemble import AdaBoostClassifier\n",
    "from sklearn import datasets\n",
    "# Import train_test_split function\n",
    "from sklearn.model_selection import train_test_split\n",
    "#Import scikit-learn metrics module for accuracy calculation\n",
    "from sklearn import metrics\n",
    "abc = AdaBoostClassifier(n_estimators=200)\n",
    "# Train Adaboost Classifer\n",
    "abc.fit(X_train, Y_train)\n",
    "\n",
    "#Predict the response for test dataset\n",
    "Y_pred = abc.predict(X_test)\n",
    "#print(\"Accuracy:\",metrics.accuracy_score(Y_test, Y_pred))\n",
    "print(\"----------------test data-------------\")\n",
    "print(\"PRECISION:\",precision_score(Y_test,Y_pred,average=\"binary\"))\n",
    "print(\"F1 SCORE:\",f1_score(Y_test,Y_pred,average=\"binary\"))\n",
    "print(\"RECALL SCORE:\",recall_score(Y_test,Y_pred,average=\"binary\"))\n",
    "print(\"-----------------train data------------\")\n",
    "print(\"PRECISION:\",precision_score(Y_train,Y_pred1,average=\"binary\"))\n",
    "print(\"F1 SCORE:\",f1_score(Y_train,Y_pred1,average=\"binary\"))\n",
    "print(\"RECALL SCORE:\",recall_score(Y_train,Y_pred1,average=\"binary\"))\n",
    "print(\"accuracy train\",classifier.score(X_train, Y_train))\n",
    "print(\"accuracy test\",classifier.score(X_test, Y_test))"
   ]
  },
  {
   "cell_type": "code",
   "execution_count": 8,
   "id": "7fb6773c",
   "metadata": {},
   "outputs": [
    {
     "data": {
      "image/png": "[encoded data removed]",
      "text/plain": [
       "<Figure size 720x360 with 1 Axes>"
      ]
     },
     "metadata": {
      "needs_background": "light"
     },
     "output_type": "display_data"
    }
   ],
   "source": [
    "import numpy as np\n",
    "import matplotlib.pyplot as plt\n",
    "# Dataset generation\n",
    "data_dict = {'linear_reg':0.9184652278177458, 'KNN':0.9280575539568345, 'SVM':0.9160671462829736, 'NAIVE_BAYES':0.9184652278177458, 'D-TREE':0.9976019184652278, 'ADA_BOOST':0.9976019184652278}\n",
    "courses = list(data_dict.keys())\n",
    "values = list(data_dict.values())\n",
    "fig = plt.figure(figsize = (10, 5))\n",
    "#  Bar plot\n",
    "plt.bar(courses, values, color ='blue',\n",
    "        width = 0.5)\n",
    "plt.xlabel(\"Types of Algorithms Used\")\n",
    "plt.ylabel(\"Training Accuracy\")\n",
    "plt.title(\"Basic Machine Learning Algorithms versus Accuracy\")\n",
    "plt.show()"
   ]
  },
  {
   "cell_type": "code",
   "execution_count": 9,
   "id": "d8647f86",
   "metadata": {},
   "outputs": [
    {
     "data": {
      "text/plain": [
       "Text(0, 0.5, 'training accuracy and testing accuracy')"
      ]
     },
     "execution_count": 9,
     "metadata": {},
     "output_type": "execute_result"
    },
    {
     "data": {
      "image/png": "[encoded data removed]",
      "text/plain": [
       "<Figure size 1080x576 with 1 Axes>"
      ]
     },
     "metadata": {
      "needs_background": "light"
     },
     "output_type": "display_data"
    }
   ],
   "source": [
    "import pandas as pd\n",
    "\n",
    "plotdata = pd.DataFrame({\n",
    "\n",
    "    \"accuracy train\":[0.9184652278177458,0.9280575539568345,0.9160671462829736,0.9184652278177458,0.9976019184652278,0.9976019184652278],\n",
    "\n",
    "    \"accuracy test\":[0.9277777777777778,0.9222222222222223,0.9277777777777778,0.9277777777777778,0.8722222222222222,0.8722222222222222]},\n",
    "\n",
    "index=['linear_reg', 'KNN', 'SVM', 'NAIVE_BAYES','D-TREE','ADA_BOOST'])\n",
    "plotdata.plot(kind=\"bar\",figsize=(15, 8))\n",
    "\n",
    "plt.title(\"Types of algorithms with their accuracy\")\n",
    "\n",
    "plt.xlabel(\"Types Of Algorithms\")\n",
    "\n",
    "plt.ylabel(\"training accuracy and testing accuracy\")"
   ]
  },
  {
   "cell_type": "code",
   "execution_count": null,
   "id": "55b1dad4",
   "metadata": {},
   "outputs": [],
   "source": []
  },
  {
   "cell_type": "code",
   "execution_count": null,
   "id": "433cbeec",
   "metadata": {},
   "outputs": [],
   "source": []
  },
  {
   "cell_type": "code",
   "execution_count": null,
   "id": "6b029be3",
   "metadata": {},
   "outputs": [],
   "source": []
  },
  {
   "cell_type": "code",
   "execution_count": null,
   "id": "637512c9",
   "metadata": {},
   "outputs": [],
   "source": []
  }
 ],
 "metadata": {
  "kernelspec": {
   "display_name": "Python 3 (ipykernel)",
   "language": "python",
   "name": "python3"
  },
  "language_info": {
   "codemirror_mode": {
    "name": "ipython",
    "version": 3
   },
   "file_extension": ".py",
   "mimetype": "text/x-python",
   "name": "python",
   "nbconvert_exporter": "python",
   "pygments_lexer": "ipython3",
   "version": "3.9.7"
  }
 },
 "nbformat": 4,
 "nbformat_minor": 5
}
